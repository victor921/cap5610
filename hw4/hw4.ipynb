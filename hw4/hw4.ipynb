{
 "cells": [
  {
   "cell_type": "code",
   "execution_count": 266,
   "metadata": {},
   "outputs": [],
   "source": [
    "import numpy as np\n",
    "import pandas as pd\n",
    "import matplotlib.pyplot as plt\n",
    "from scipy.spatial import distance\n",
    "import random\n",
    "from statistics import mean\n",
    "import math"
   ]
  },
  {
   "source": [
    "## Helper Functions"
   ],
   "cell_type": "markdown",
   "metadata": {}
  },
  {
   "cell_type": "code",
   "execution_count": 117,
   "metadata": {},
   "outputs": [],
   "source": [
    "# def kmeans(iterations, centroids, dataPoints, distanceMetric):\n",
    "\n",
    "def getCentroid(centroids, dataPoints, distanceMetric):\n",
    "    newCentroid = []    \n",
    "    x1 = 0\n",
    "    y1 = 0\n",
    "    length1 = 0\n",
    "    x2 = 0\n",
    "    y2 = 0\n",
    "    length2 = 0\n",
    "    for data in dataPoints:\n",
    "        distance = []\n",
    "        for centroid in centroids:\n",
    "            distance.append(distanceMetric(centroid, data))\n",
    "\n",
    "        index = distance.index(min(distance))        \n",
    "\n",
    "        if (index == 0):\n",
    "            x1 += data[0]\n",
    "            y1 += data[1]\n",
    "            length1 += 1\n",
    "        elif (index == 1):\n",
    "            x2 += data[0]\n",
    "            y2 += data[1]\n",
    "            length2 += 1\n",
    "\n",
    "    newCentroid.append((round((x1/length1), 2), round((y1/length1), 2)))\n",
    "    newCentroid.append((round((x2/length2), 2), round((y2/length2), 2)))\n",
    "\n",
    "    return newCentroid\n",
    "\n"
   ]
  },
  {
   "source": [
    "## Task 1\n",
    "\n",
    "### Q1\n"
   ],
   "cell_type": "markdown",
   "metadata": {}
  },
  {
   "cell_type": "code",
   "execution_count": 208,
   "metadata": {},
   "outputs": [
    {
     "output_type": "execute_result",
     "data": {
      "text/plain": [
       "[(4.0, 6.33), (5.57, 3.57)]"
      ]
     },
     "metadata": {},
     "execution_count": 208
    }
   ],
   "source": [
    "# Load team data\n",
    "df = pd.read_csv('teamData.csv')\n",
    "df = df.drop('Team', 1)\n",
    "\n",
    "dataPoints = df[['2016', '2017']].to_numpy()\n",
    "getCentroid([(4, 6), (5, 4)], dataPoints, distance.cityblock)\n"
   ]
  },
  {
   "source": [
    "### Q2"
   ],
   "cell_type": "markdown",
   "metadata": {}
  },
  {
   "cell_type": "code",
   "execution_count": 119,
   "metadata": {},
   "outputs": [
    {
     "output_type": "execute_result",
     "data": {
      "text/plain": [
       "[(2.5, 6.5), (5.75, 3.88)]"
      ]
     },
     "metadata": {},
     "execution_count": 119
    }
   ],
   "source": [
    "dataPoints = df[['2016', '2017']].to_numpy()\n",
    "getCentroid([(4, 6), (5, 4)], dataPoints, distance.euclidean)"
   ]
  },
  {
   "source": [
    "### Q3"
   ],
   "cell_type": "markdown",
   "metadata": {}
  },
  {
   "cell_type": "code",
   "execution_count": 120,
   "metadata": {},
   "outputs": [
    {
     "output_type": "execute_result",
     "data": {
      "text/plain": [
       "[(2.5, 5.0), (6.83, 4.0)]"
      ]
     },
     "metadata": {},
     "execution_count": 120
    }
   ],
   "source": [
    "dataPoints = df[['2016', '2017']].to_numpy()\n",
    "getCentroid([(3, 3), (8, 3)], dataPoints, distance.cityblock)"
   ]
  },
  {
   "source": [
    "### Q4"
   ],
   "cell_type": "markdown",
   "metadata": {}
  },
  {
   "cell_type": "code",
   "execution_count": 121,
   "metadata": {},
   "outputs": [
    {
     "output_type": "execute_result",
     "data": {
      "text/plain": [
       "[(4.86, 3.57), (5.67, 6.33)]"
      ]
     },
     "metadata": {},
     "execution_count": 121
    }
   ],
   "source": [
    "dataPoints = df[['2016', '2017']].to_numpy()\n",
    "getCentroid([(3, 2), (4, 8)], dataPoints, distance.cityblock)"
   ]
  },
  {
   "source": [
    "## Task 2"
   ],
   "cell_type": "markdown",
   "metadata": {}
  },
  {
   "source": [
    "## Helper Functions"
   ],
   "cell_type": "markdown",
   "metadata": {}
  },
  {
   "cell_type": "code",
   "execution_count": 224,
   "metadata": {},
   "outputs": [],
   "source": [
    "def SSE(cluster):\n",
    "    SSE = []\n",
    "    SSEMean = 0\n",
    "    deviation = []\n",
    "    if not cluster:\n",
    "        return None\n",
    "    else:\n",
    "        for i in cluster:\n",
    "            SSE.append(mean(i))\n",
    "        SSSEMean = mean(SSE)\n",
    "        for i in SSE:\n",
    "            deviation.append((i - SSSEMean) ** 2)\n",
    "        return round(sum(deviation), 4)\n",
    "        \n",
    "\n",
    "\n",
    "def kmeans(centroids, dataSet, distanceMetric):\n",
    "    list1 = []\n",
    "    list2 = []\n",
    "    list3 = []\n",
    "    \n",
    "    for data in dataSet:\n",
    "        distance = []\n",
    "        # for x in range(100):\n",
    "        for centroid in centroids:\n",
    "            distance.append(distanceMetric(centroid, data))\n",
    "\n",
    "        index = distance.index(min(distance))  \n",
    "\n",
    "        if index == 0:\n",
    "            list1.append(data)\n",
    "\n",
    "        elif index == 1:\n",
    "            list2.append(data)\n",
    "\n",
    "        elif index == 2:\n",
    "            list3.append(data)\n",
    "           \n",
    "    return list1, list2, list3\n",
    "    \n",
    "    \n",
    "\n",
    "\n"
   ]
  },
  {
   "cell_type": "code",
   "execution_count": 265,
   "metadata": {
    "tags": []
   },
   "outputs": [
    {
     "output_type": "stream",
     "name": "stdout",
     "text": [
      "Euclidean - Cluster 1:  91.1257\nEuclidean - Cluster 2:  None\nEuclidean - Cluster 3:  None\n\n\nCosine - Cluster 1:  91.1257\nCosine - Cluster 2:  None\nCosine - Cluster 3:  None\n\n\nJaccard - Cluster 1:  66.9855\nJaccard - Cluster 2:  None\nJaccard - Cluster 3:  20.4501\n"
     ]
    }
   ],
   "source": [
    "irisData = pd.read_csv('iris.csv')\n",
    "irisData = irisData.drop('type', 1)\n",
    "centroids = []\n",
    "irisData = irisData.to_numpy()\n",
    "\n",
    "\n",
    "\n",
    "for i in range(3):\n",
    "    centroids.append(random.sample(range(0, len(irisData[0])), 4))\n",
    "\n",
    "\n",
    "# print(distance.euclidean([5.1,3.2,1.4,0.2], [1, 0, 3, 2]))\n",
    "\n",
    "list1, list2, list3 = kmeans(centroids, irisData, distance.euclidean)\n",
    "\n",
    "print('Euclidean - Cluster 1: ', SSE(list1))\n",
    "print('Euclidean - Cluster 2: ', SSE(list2))\n",
    "print('Euclidean - Cluster 3: ', SSE(list3))\n",
    "\n",
    "print('\\n')\n",
    "\n",
    "list1, list2, list3 = kmeans(centroids, irisData, distance.cosine)\n",
    "\n",
    "print('Cosine - Cluster 1: ', SSE(list1))\n",
    "print('Cosine - Cluster 2: ', SSE(list2))\n",
    "print('Cosine - Cluster 3: ', SSE(list3))\n",
    "print('\\n')\n",
    "\n",
    "list1, list2, list3 = kmeans(centroids, irisData, distance.jaccard)\n",
    "\n",
    "print('Jaccard - Cluster 1: ', SSE(list1))\n",
    "print('Jaccard - Cluster 2: ', SSE(list2))\n",
    "print('Jaccard - Cluster 3: ', SSE(list3))"
   ]
  },
  {
   "cell_type": "code",
   "execution_count": null,
   "metadata": {},
   "outputs": [],
   "source": []
  },
  {
   "source": [
    "## Task 3"
   ],
   "cell_type": "markdown",
   "metadata": {}
  },
  {
   "cell_type": "code",
   "execution_count": 293,
   "metadata": {},
   "outputs": [],
   "source": [
    "def calculateDist(arr1, arr2):\n",
    "    maxDist = 0\n",
    "    minDist = 99999\n",
    "    avgDist = []\n",
    "    for i in arr1:\n",
    "        for j in arr2:\n",
    "            avgDist.append(math.dist(i, j))\n",
    "            maxDist = max(maxDist, math.dist(i, j))\n",
    "            minDist = min(minDist, math.dist(i, j))\n",
    "    return round(maxDist, 4), round(minDist, 4), round(mean(avgDist), 4)\n",
    "\n",
    "\n"
   ]
  },
  {
   "cell_type": "code",
   "execution_count": 295,
   "metadata": {},
   "outputs": [
    {
     "output_type": "stream",
     "name": "stdout",
     "text": [
      "Distance between farthest points:  2.1095\nDistance between closest points:  0.922\nAverage Distance:  1.4129\n"
     ]
    }
   ],
   "source": [
    "red = [(4.7, 3.2), (4.9, 3.1), (5.0, 3.0), (4.6, 2.9)]\n",
    "blue = [(5.9, 3.2), (6.7, 3.1), (6.0, 3.0), (6.2, 2.8)]\n",
    "\n",
    "maxDist, minDist, avgDist = calculateDist(red, blue)\n",
    "\n",
    "print('Distance between farthest points: ', maxDist)\n",
    "print('Distance between closest points: ', minDist)\n",
    "print('Average Distance: ', avgDist)\n",
    "\n"
   ]
  }
 ],
 "metadata": {
  "kernelspec": {
   "display_name": "Python 3",
   "language": "python",
   "name": "python3"
  },
  "language_info": {
   "codemirror_mode": {
    "name": "ipython",
    "version": 3
   },
   "file_extension": ".py",
   "mimetype": "text/x-python",
   "name": "python",
   "nbconvert_exporter": "python",
   "pygments_lexer": "ipython3",
   "version": "3.8.5-final"
  }
 },
 "nbformat": 4,
 "nbformat_minor": 4
}